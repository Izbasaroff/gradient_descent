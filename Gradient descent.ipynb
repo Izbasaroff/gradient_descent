{
 "cells": [
  {
   "cell_type": "code",
   "execution_count": 1,
   "id": "2668a7b1-b5b2-4979-8c78-c3d271ceb309",
   "metadata": {},
   "outputs": [],
   "source": [
    "#Градиентный спуск"
   ]
  },
  {
   "cell_type": "code",
   "execution_count": 5,
   "id": "f1b093dc-2050-40f4-9d79-e0a0cc7647af",
   "metadata": {},
   "outputs": [],
   "source": [
    "def gradient_descent(starting_point, learning_rate, iterations):\n",
    "    x = starting_point\n",
    "    trajectory = [x]  \n",
    "    for _ in range(iterations):\n",
    "        grad = gradient(x)  \n",
    "        x = x - learning_rate * grad  \n",
    "        trajectory.append(x)\n",
    "    return x, trajectory"
   ]
  },
  {
   "cell_type": "code",
   "execution_count": null,
   "id": "fbefdd68-a52d-4342-b6a3-5b695b806731",
   "metadata": {},
   "outputs": [],
   "source": []
  }
 ],
 "metadata": {
  "kernelspec": {
   "display_name": "Python 3 (ipykernel)",
   "language": "python",
   "name": "python3"
  },
  "language_info": {
   "codemirror_mode": {
    "name": "ipython",
    "version": 3
   },
   "file_extension": ".py",
   "mimetype": "text/x-python",
   "name": "python",
   "nbconvert_exporter": "python",
   "pygments_lexer": "ipython3",
   "version": "3.11.7"
  }
 },
 "nbformat": 4,
 "nbformat_minor": 5
}
